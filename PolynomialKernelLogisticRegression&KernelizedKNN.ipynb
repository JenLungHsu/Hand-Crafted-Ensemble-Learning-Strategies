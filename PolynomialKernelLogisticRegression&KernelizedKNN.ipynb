{
 "cells": [
  {
   "cell_type": "code",
   "execution_count": 1,
   "metadata": {},
   "outputs": [],
   "source": [
    "import numpy as np\n",
    "import pandas as pd\n",
    "from sklearn.datasets import make_classification\n",
    "from sklearn.model_selection import train_test_split\n",
    "from collections import Counter"
   ]
  },
  {
   "cell_type": "code",
   "execution_count": 2,
   "metadata": {},
   "outputs": [],
   "source": [
    "# Logistic Regression with Polynomial Kernel\n",
    "class LogisticRegressionPolyKernel:\n",
    "    def __init__(self, learning_rate=0.01, n_iterations=1000, degree=2):\n",
    "        self.learning_rate = learning_rate\n",
    "        self.n_iterations = n_iterations\n",
    "        self.degree = degree\n",
    "\n",
    "    def fit(self, X, y):\n",
    "        self.X = self._map_features(X)\n",
    "        self.y = y\n",
    "        self.weights = np.zeros(self.X.shape[1])\n",
    "\n",
    "        for _ in range(self.n_iterations):\n",
    "            h = self._sigmoid(np.dot(self.X, self.weights))\n",
    "            gradient = np.dot(self.X.T, (h - self.y)) / len(self.y)\n",
    "            self.weights -= self.learning_rate * gradient\n",
    "\n",
    "        return self\n",
    "\n",
    "    def _map_features(self, X):\n",
    "        X_poly = np.ones((len(X), 1))\n",
    "        for i in range(1, self.degree + 1):\n",
    "            for j in range(i + 1):\n",
    "                new_feature = (X[:, 0] ** (i - j)) * (X[:, 1] ** j)\n",
    "                X_poly = np.column_stack((X_poly, new_feature))\n",
    "\n",
    "        return X_poly\n",
    "\n",
    "    def _sigmoid(self, z):\n",
    "        return 1 / (1 + np.exp(-z))\n",
    "\n",
    "    def predict(self, X):\n",
    "        X = self._map_features(X)\n",
    "        predictions = self._sigmoid(np.dot(X, self.weights))\n",
    "        return np.where(predictions >= 0.5, 1, 0)\n",
    "\n",
    "\n",
    "# Kernelized KNN\n",
    "class KernelizedKNN:\n",
    "    def __init__(self, k=3, kernel='linear'):\n",
    "        self.k = k\n",
    "        self.kernel = kernel\n",
    "\n",
    "    def fit(self, X, y):\n",
    "        self.X_train = X\n",
    "        self.y_train = y\n",
    "\n",
    "    def predict(self, X):\n",
    "        predictions = []\n",
    "        for x in X:\n",
    "            distances = []\n",
    "            for i, x_train in enumerate(self.X_train):\n",
    "                if self.kernel == 'linear':\n",
    "                    distance = np.dot(x_train - x, x_train - x)\n",
    "                elif self.kernel == 'polynomial':\n",
    "                    distance = (np.dot(x_train, x) + 1) ** 2  # Polynomial Kernel\n",
    "                distances.append((i, distance))\n",
    "            distances.sort(key=lambda x: x[1])\n",
    "            k_nearest = distances[:self.k]\n",
    "            k_nearest_labels = [self.y_train[i] for i, _ in k_nearest]\n",
    "            predictions.append(Counter(k_nearest_labels).most_common(1)[0][0])\n",
    "        return np.array(predictions)\n",
    "\n",
    "\n",
    "# Ensemble of Logistic Regression and KNN\n",
    "class Ensemble:\n",
    "    def __init__(self, models):\n",
    "        self.models = models\n",
    "\n",
    "    def fit(self, X, y):\n",
    "        for model in self.models:\n",
    "            model.fit(X, y)\n",
    "\n",
    "    def predict(self, X):\n",
    "        predictions = []\n",
    "        for model in self.models:\n",
    "            predictions.append(model.predict(X))\n",
    "        predictions = np.array(predictions)\n",
    "        final_predictions = np.apply_along_axis(lambda x: Counter(x).most_common(1)[0][0], axis=0, arr=predictions)\n",
    "        return final_predictions\n"
   ]
  },
  {
   "cell_type": "code",
   "execution_count": 6,
   "metadata": {},
   "outputs": [],
   "source": [
    "import random\n",
    "import data_processing as df\n",
    "\n",
    "def split_data(X, y, train_ratio=0.8, random_seed=42):\n",
    "    random.seed(random_seed)\n",
    "\n",
    "    data_size = len(X)\n",
    "    index = list(range(data_size))\n",
    "    random.shuffle(index)\n",
    "\n",
    "    train_size = int(data_size*train_ratio)\n",
    "    test_size = data_size - train_size\n",
    "\n",
    "    X_train = X.iloc[index[:train_size]]\n",
    "    y_train = y.iloc[index[:train_size]]\n",
    "    X_test = X.iloc[index[train_size:]]\n",
    "    y_test = y.iloc[index[train_size:]]\n",
    "\n",
    "    return X_train, X_test, y_train, y_test\n",
    "\n",
    "X = df.df.drop(\"is_claim\", axis=1)\n",
    "y = df.df.loc[:, \"is_claim\"]\n",
    "\n",
    "X_train, X_test, y_train, y_test = split_data(X, y)\n",
    "X_tra, X_val, y_tra, y_val = split_data(X_train, y_train)"
   ]
  },
  {
   "cell_type": "code",
   "execution_count": 7,
   "metadata": {},
   "outputs": [
    {
     "name": "stdout",
     "output_type": "stream",
     "text": [
      "Accuracy of validation set: 0.8146438746438747\n"
     ]
    }
   ],
   "source": [
    "# Ensemble of Logistic Regression with Polynomial Kernel and KNN models\n",
    "log_reg_models = [LogisticRegressionPolyKernel(degree=degree) for degree in range(1, 4)]\n",
    "knn_models = [KernelizedKNN(k=k, kernel=kernel) for k in [3, 5] for kernel in ['linear', 'polynomial']]\n",
    "\n",
    "ensemble_models = log_reg_models + knn_models\n",
    "ensemble = Ensemble(ensemble_models)\n",
    "\n",
    "ensemble.fit(X_tra.values, y_tra.values)\n",
    "predictions = ensemble.predict(X_val.values)\n",
    "\n",
    "accuracy = np.mean(predictions == y_val.values)\n",
    "print(f\"Accuracy of validation set: {accuracy}\")"
   ]
  },
  {
   "cell_type": "code",
   "execution_count": 8,
   "metadata": {},
   "outputs": [
    {
     "name": "stdout",
     "output_type": "stream",
     "text": [
      "Accuracy of test set: 0.8142948308870454\n"
     ]
    }
   ],
   "source": [
    "# Ensemble of Logistic Regression with Polynomial Kernel and KNN models\n",
    "log_reg_models = [LogisticRegressionPolyKernel(degree=degree) for degree in range(1, 4)]\n",
    "knn_models = [KernelizedKNN(k=k, kernel=kernel) for k in [3, 5] for kernel in ['linear', 'polynomial']]\n",
    "\n",
    "ensemble_models = log_reg_models + knn_models\n",
    "ensemble = Ensemble(ensemble_models)\n",
    "\n",
    "ensemble.fit(X_train.values, y_train.values)\n",
    "predictions = ensemble.predict(X_test.values)\n",
    "\n",
    "accuracy = np.mean(predictions == y_test.values)\n",
    "print(f\"Accuracy of test set: {accuracy}\")"
   ]
  }
 ],
 "metadata": {
  "kernelspec": {
   "display_name": "Roy",
   "language": "python",
   "name": "python3"
  },
  "language_info": {
   "codemirror_mode": {
    "name": "ipython",
    "version": 3
   },
   "file_extension": ".py",
   "mimetype": "text/x-python",
   "name": "python",
   "nbconvert_exporter": "python",
   "pygments_lexer": "ipython3",
   "version": "3.8.18"
  }
 },
 "nbformat": 4,
 "nbformat_minor": 2
}
